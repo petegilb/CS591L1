{
 "cells": [
  {
   "cell_type": "markdown",
   "metadata": {},
   "source": [
    "# SQLAlchemy and Object Relational Model (ORMs)\n",
    "\n",
    "## Motivation\n",
    "\n",
    "SQL-based relational databases are a great way to store and query relational data. SQL database systems (e.g. Postgres) are optimized for fast query of data and efficient storage, via a variety of techniques such as indexing or compression.\n",
    "\n",
    "SQL provides us with a descriptive language that allows us to create and modify schemas (e.g. the structure of tables and their relations), as well as inserting, updating, and querying data. SQL is a domain specific language. It does not have any programming capabilities beyond database functionalities.\n",
    "\n",
    "Database systems are commonly used as a backend data store for applications, especially web and mobile applications. Large applications of this sort are written in a variety of layers and languages. Common backends languages including Python and node.js.\n",
    "\n",
    "This poses a challenge. Backends written in Python or similar languages must be able to interact with database systems through SQL. Legacy designs suggest embedding SQL commands into the backend in a naive way: the SQL commands are written as string literals in the backend program, and then passed to some intermediate interface or driver responsible for passing them to the database system, and retrieving the result.\n",
    "\n",
    "This technique was very popular in the early days of backend and web development. However, it had several drawbacks. First, since the SQL statements in the backend are string literals, manipulating them was restricted to string operations, such as concatenation or template instatiations, which is somewhat low level. Second, writing SQL statements as string literals meant little IDE and toolchain support for them, it also is very error prone. Third, such a design posed several vulnerabilities, SQL commands were represented as string literals and assigned to variables, which by definition were used throughout the backend, and sometimes modified. Every access or modification to a variable like that posed an attack surface (or a potential bug) for hackers to abuse. A prime example of such vulnerability is [SQL-injection](https://www.owasp.org/index.php/SQL_Injection).\n",
    "\n",
    "As backend development became increasingly important, its toolchains and frameworks received increased attention from the community. This led to the invention of ORMs. SQLalchemy is one of the most popular and mature ORMs available for python. ORMs embed SQL into their host language in a more sophisticated way. Developers can issue SQL commands without having to write SQL statements explicitly as strings. Instead, developers use typical constructs of the host language to represent the query logically, which is automatically translated into **safe** SQL statements via the ORM.\n",
    "\n",
    "ORMs are generally a deep embedding. Constructs provided by the ORM (e.g. the capability to query data from a database) are represented as data types (e.g. classes and objects) in the host language, that are defined and provided by the ORM, which can be manipulated by the developers via the ORM's API, to issue SQL statements.\n",
    "\n",
    "While SQL is based on the concepts of tables and relationship (e.g. foreign keys) between them, ORMs are based on classes and objects. An ORM allows developers to represent a table as a class in the host language. Rows in that table are then represented as objects that are instances of the corresponding class. A relationship between tables is represented via references between the associated objects.\n",
    "\n",
    "For example, instead of using a statement like this:\n",
    "```sql\n",
    "SELECT user_id FROM users WHERE username='foo' AND password='bar';\n",
    "```\n",
    "\n",
    "An ORM supports achieving the same effect via class and objects in the host language:\n",
    "```python\n",
    "# User is a class representing the users table\n",
    "User.query(User.user_id).filter(AND(User.username=='foo', User.password=='bar'))\n",
    "```"
   ]
  },
  {
   "cell_type": "markdown",
   "metadata": {},
   "source": [
    "# SQLAlchemy\n",
    "\n",
    "In this course, we will focus specifically on SQLAlchemy as a sample ORM. SQLAlchemy is a terrific use case for studying embedded frameworks, since it uses a lot of the techniques we covered in class previously, so that it can achieve a friendly deep embedding into Python, that interfaces with SQL and databases. These notes follow closely this [great SQLAlchemy tutorial](https://docs.sqlalchemy.org/en/13/orm/tutorial.html).\n",
    "\n",
    "The tutorial has more details about SQLAlchemy's capabilites and API, while the notes focus on providing a high level summary of the capabilities, and certain aspects that are interesting from an embedding point of view.\n",
    "\n",
    "## Connecting to a Database\n",
    "\n",
    "The first step of using SQLAlchemy is to connect it to the desired database system. This is achieved via creating an **engine**, which is the SQLAlchemy intermediate layer that sits between the developers python code, and the database system.\n",
    "\n",
    "The engine is responsible for communicating with the database system, including sending and receiving network messages if the database is remote. The engine is also responsible for generating SQL queries that correspond to the developers code, using the syntax and features of the specific database system it is connected to. It is also responsible for parsing the results of queries into their corresponding python objects and values.\n",
    "\n",
    "To create an engine, all you really need to do is provide SQLAlchemy with the address of the database to connect to. Below, we will connect to an in-memory sqlite database. This assumes that your computer has sqlite3 installed."
   ]
  },
  {
   "cell_type": "code",
   "execution_count": 1,
   "metadata": {},
   "outputs": [
    {
     "name": "stdout",
     "output_type": "stream",
     "text": [
      "Engine(sqlite:///:memory:) 1.3.11\n"
     ]
    }
   ],
   "source": [
    "import sqlalchemy\n",
    "from sqlalchemy import create_engine\n",
    "\n",
    "# echo=True indicates that engine should print debugging information\n",
    "# including all sql statements it issues\n",
    "engine = create_engine('sqlite:///:memory:', echo=True)\n",
    "print(engine, sqlalchemy.__version__)"
   ]
  },
  {
   "cell_type": "markdown",
   "metadata": {},
   "source": [
    "# Schema Declaration via SQLAlchemy\n",
    "\n",
    "The schema of a database specifies the structure of its tables. This includes the name of all tables, and each column inside them. This includes the name and type of each column (e.g. a number or a date or text), as well as any other properties or conditions of that column (e.g. marking a column as having only unique values).\n",
    "\n",
    "Traditionally, a table can be defined in SQL via an insert statement. For example, this statement defines a table of authors, each with an ID a first name and a last name:\n",
    "```SQL\n",
    "CREATE TABLE authors(\n",
    "    id INTEGER PRIMARY KEY AUTOINCREMENT,\n",
    "    first_name TEXT NOT NULL,\n",
    "    last_name TEXT NOT NULL\n",
    ");\n",
    "```\n",
    "\n",
    "Note that while the sytnax of SQL is standardized between all database systems (for most statements). Certain types and \n",
    "features are different or unique to specific database systems. For example, not all systems support AUTOINCREMENT.\n",
    "\n",
    "## Declarative Base\n",
    "\n",
    "We can define tables and schemas through SQLAlchemy via python constructs. Namely, we defined a table by defining a python class. Not every python class we define in an application will be a table. We can mark certain class as tables by inheriting from a special **declarative base** class that SQLAlchemy provides us.\n",
    "\n",
    "First, we should create a declarative base via sqlalchemy's API. An application can have several declarative bases to support having several databases. We will go over how a declarative base is implemented in more detail in the next lecture."
   ]
  },
  {
   "cell_type": "code",
   "execution_count": 2,
   "metadata": {},
   "outputs": [],
   "source": [
    "from sqlalchemy.ext.declarative import declarative_base\n",
    "Base = declarative_base()"
   ]
  },
  {
   "cell_type": "markdown",
   "metadata": {},
   "source": [
    "## Defining Tables via Python Classes\n",
    "\n",
    "Now, we can define all the tables we want as Python classes. We only have to **inherit from the declarative base**. These python classes are called **SQLAlchemy modules**.\n",
    "\n",
    "Each module contains *static* attributes specifying the columns, their constraints, and other information about the table it represents. Additionally, since modules are just Python classes, they can also have Python-side attributes and functions. SQLAlchemy can automatically distinguish which are python-side and which are database side, by looking at the attributes and functions types.\n",
    "\n",
    "Below, we will use SQLAlchemy declarative API to define several tables representing a library database."
   ]
  },
  {
   "cell_type": "code",
   "execution_count": 3,
   "metadata": {},
   "outputs": [],
   "source": [
    "from sqlalchemy import Column, Integer, String, ForeignKey\n",
    "from sqlalchemy.types import Text, Boolean\n",
    "\n",
    "class Author(Base):\n",
    "    __tablename__ = 'authors' # the actual name in the DB\n",
    "\n",
    "    id = Column(Integer, primary_key=True)\n",
    "    first_name = Column(String, nullable=False)\n",
    "    last_name = Column(String, nullable=False)\n",
    "\n",
    "    def get_name(self): # python side\n",
    "        return \"{} {}\".format(self.first_name, self.last_name)\n",
    "\n",
    "    def __repr__(self): # python side\n",
    "        return \"<Author(id={}, name='{}'>\".format(self.id, self.get_name())"
   ]
  },
  {
   "cell_type": "markdown",
   "metadata": {},
   "source": [
    "Below, we define another table representing books in our library. An interesting attribute of books is that they have an author. In database terms, we have a one-to-many relationship between books and authors. An author can have many book, while a book can have one author (at least in our example).\n",
    "\n",
    "We can define this relationship using SQLAlchemy's API in a standard way. First, we define a column that serves as a **foreign key** between the two tables. Second, we define a **logical relationship** between these two tables.\n",
    "\n",
    "The logical relationship is a logical connection that SQLAlchemy automatically manages at the Python side. In particular, it provides a simple way to interact with rows in the two tables that are related via the foreign key. More on this later.\n",
    "\n",
    "Notice that the definition of the relationship specifies three things:\n",
    "1. The sqlalchemy module's name: This is specified as a string because the module may not have been defined yet at this point, and to support tables defined outside via the alternative classical mapping feature of SQLAlchemy, which defines tables without defining python classes.\n",
    "2. The foreign keys: SQLAlchemy can deduce this automatically when only one foreign key exists between the two tables.\n",
    "3. The backref name: this directs SQLAlchemy to define a back-reference relationship in the Author module, this is a useful shortcut to avoid having to define both ends of the relationship in both modules explicitly."
   ]
  },
  {
   "cell_type": "code",
   "execution_count": 4,
   "metadata": {},
   "outputs": [],
   "source": [
    "from sqlalchemy.orm import relationship\n",
    "\n",
    "class Book(Base):\n",
    "    __tablename__ = 'books'\n",
    "\n",
    "    id = Column(Integer, primary_key=True)\n",
    "    title = Column(String(75), nullable=False)\n",
    "    synopsis = Column(Text, nullable=True)\n",
    "\n",
    "    author_id = Column(Integer, ForeignKey(Author.id), nullable=False)\n",
    "    author = relationship(\"Author\", foreign_keys=[author_id], backref=\"books\")\n",
    "\n",
    "    def __repr__(self):\n",
    "        return \"<Book(id={}, title='{}', author='{}', has_synopsis={})>\".format(\n",
    "            self.id, self.title, self.author.get_name(), self.synopsis is not None)"
   ]
  },
  {
   "cell_type": "markdown",
   "metadata": {},
   "source": [
    "Finally, we define a module for countries. We also specify a relationship between countries and authors. However, this is a many to many relationship. An author may have several nationalities, and a country can have many authors.\n",
    "\n",
    "Traditionally, many-to-many relationships are defined via an association table, that lists related entries in both tables. We define this association table via the CountryAuthor module below.\n",
    "\n",
    "We define the relationship inside the Country module. Note that we pass the name of the association module via the secondary parameter. This tells sqlalchemy that this is a many-to-many relation.\n",
    "\n",
    "Notice that in the association module we only define foreign keys but no relations. This is only a matter of convinience. In our code, we only need to use the relationship via objects of countries and authors and never the association table."
   ]
  },
  {
   "cell_type": "code",
   "execution_count": 5,
   "metadata": {},
   "outputs": [],
   "source": [
    "class Country(Base):\n",
    "    __tablename__ = 'country'\n",
    "\n",
    "    id = Column(Integer, primary_key=True)\n",
    "    name = Column(String, nullable=False, unique=True)\n",
    "    code = Column(String(3), nullable=False, unique=True)\n",
    "    \n",
    "    authors = relationship(\"Author\",\n",
    "                           secondary=\"country_author\",\n",
    "                           backref=\"countries\")\n",
    "\n",
    "    def __repr__(self):\n",
    "        return \"<Country(id={}, name={}, code={})>\".format(self.id, self.name,\n",
    "                                                           self.code)\n",
    "\n",
    "class CountryAuthor(Base):\n",
    "    __tablename__ = 'country_author'\n",
    "    \n",
    "    author_id = Column(Integer, ForeignKey(Author.id), primary_key=True)\n",
    "    country_id = Column(Integer, ForeignKey(Country.id), primary_key=True)\n",
    "    native = Column(Boolean, nullable=False, default=True)\n",
    "    \n",
    "    #author = relationship(\"Author\")\n",
    "    #country = relationship(\"Country\")\n",
    "\n",
    "    def __repr__(self):\n",
    "        return \"<CountryAuthor(author_id={}, country_id={}, native={})\".format(\n",
    "            self.author_id, self.country_id, self.native)"
   ]
  },
  {
   "cell_type": "markdown",
   "metadata": {},
   "source": [
    "## Creating the Tables\n",
    "\n",
    "Note that we have only defined python classes so far. The database itself has not been modified yet, and no \"physical\" tables were created. We can tell SQLAlchemy to create the tables for us via the declarative base. When creating the tables, we must specify a corresponding engine, which will be used to generate and issue the corresponding SQL commands.\n",
    "\n",
    "Note how this call generates many SQL statements, corresponding to each of the modules we defined above."
   ]
  },
  {
   "cell_type": "code",
   "execution_count": 6,
   "metadata": {},
   "outputs": [
    {
     "name": "stdout",
     "output_type": "stream",
     "text": [
      "2019-11-14 00:20:03,948 INFO sqlalchemy.engine.base.Engine SELECT CAST('test plain returns' AS VARCHAR(60)) AS anon_1\n",
      "2019-11-14 00:20:03,950 INFO sqlalchemy.engine.base.Engine ()\n",
      "2019-11-14 00:20:03,953 INFO sqlalchemy.engine.base.Engine SELECT CAST('test unicode returns' AS VARCHAR(60)) AS anon_1\n",
      "2019-11-14 00:20:03,957 INFO sqlalchemy.engine.base.Engine ()\n",
      "2019-11-14 00:20:03,960 INFO sqlalchemy.engine.base.Engine PRAGMA main.table_info(\"country\")\n",
      "2019-11-14 00:20:03,964 INFO sqlalchemy.engine.base.Engine ()\n",
      "2019-11-14 00:20:03,967 INFO sqlalchemy.engine.base.Engine PRAGMA temp.table_info(\"country\")\n",
      "2019-11-14 00:20:03,970 INFO sqlalchemy.engine.base.Engine ()\n",
      "2019-11-14 00:20:03,972 INFO sqlalchemy.engine.base.Engine PRAGMA main.table_info(\"books\")\n",
      "2019-11-14 00:20:03,975 INFO sqlalchemy.engine.base.Engine ()\n",
      "2019-11-14 00:20:03,976 INFO sqlalchemy.engine.base.Engine PRAGMA temp.table_info(\"books\")\n",
      "2019-11-14 00:20:03,979 INFO sqlalchemy.engine.base.Engine ()\n",
      "2019-11-14 00:20:03,980 INFO sqlalchemy.engine.base.Engine PRAGMA main.table_info(\"authors\")\n",
      "2019-11-14 00:20:03,982 INFO sqlalchemy.engine.base.Engine ()\n",
      "2019-11-14 00:20:03,983 INFO sqlalchemy.engine.base.Engine PRAGMA temp.table_info(\"authors\")\n",
      "2019-11-14 00:20:03,985 INFO sqlalchemy.engine.base.Engine ()\n",
      "2019-11-14 00:20:03,986 INFO sqlalchemy.engine.base.Engine PRAGMA main.table_info(\"country_author\")\n",
      "2019-11-14 00:20:03,988 INFO sqlalchemy.engine.base.Engine ()\n",
      "2019-11-14 00:20:03,989 INFO sqlalchemy.engine.base.Engine PRAGMA temp.table_info(\"country_author\")\n",
      "2019-11-14 00:20:03,990 INFO sqlalchemy.engine.base.Engine ()\n",
      "2019-11-14 00:20:03,992 INFO sqlalchemy.engine.base.Engine \n",
      "CREATE TABLE country (\n",
      "\tid INTEGER NOT NULL, \n",
      "\tname VARCHAR NOT NULL, \n",
      "\tcode VARCHAR(3) NOT NULL, \n",
      "\tPRIMARY KEY (id), \n",
      "\tUNIQUE (name), \n",
      "\tUNIQUE (code)\n",
      ")\n",
      "\n",
      "\n",
      "2019-11-14 00:20:03,993 INFO sqlalchemy.engine.base.Engine ()\n",
      "2019-11-14 00:20:03,994 INFO sqlalchemy.engine.base.Engine COMMIT\n",
      "2019-11-14 00:20:03,995 INFO sqlalchemy.engine.base.Engine \n",
      "CREATE TABLE authors (\n",
      "\tid INTEGER NOT NULL, \n",
      "\tfirst_name VARCHAR NOT NULL, \n",
      "\tlast_name VARCHAR NOT NULL, \n",
      "\tPRIMARY KEY (id)\n",
      ")\n",
      "\n",
      "\n",
      "2019-11-14 00:20:03,996 INFO sqlalchemy.engine.base.Engine ()\n",
      "2019-11-14 00:20:03,998 INFO sqlalchemy.engine.base.Engine COMMIT\n",
      "2019-11-14 00:20:03,999 INFO sqlalchemy.engine.base.Engine \n",
      "CREATE TABLE books (\n",
      "\tid INTEGER NOT NULL, \n",
      "\ttitle VARCHAR(75) NOT NULL, \n",
      "\tsynopsis TEXT, \n",
      "\tauthor_id INTEGER NOT NULL, \n",
      "\tPRIMARY KEY (id), \n",
      "\tFOREIGN KEY(author_id) REFERENCES authors (id)\n",
      ")\n",
      "\n",
      "\n",
      "2019-11-14 00:20:03,999 INFO sqlalchemy.engine.base.Engine ()\n",
      "2019-11-14 00:20:04,000 INFO sqlalchemy.engine.base.Engine COMMIT\n",
      "2019-11-14 00:20:04,001 INFO sqlalchemy.engine.base.Engine \n",
      "CREATE TABLE country_author (\n",
      "\tauthor_id INTEGER NOT NULL, \n",
      "\tcountry_id INTEGER NOT NULL, \n",
      "\tnative BOOLEAN NOT NULL, \n",
      "\tPRIMARY KEY (author_id, country_id), \n",
      "\tFOREIGN KEY(author_id) REFERENCES authors (id), \n",
      "\tFOREIGN KEY(country_id) REFERENCES country (id), \n",
      "\tCHECK (native IN (0, 1))\n",
      ")\n",
      "\n",
      "\n",
      "2019-11-14 00:20:04,002 INFO sqlalchemy.engine.base.Engine ()\n",
      "2019-11-14 00:20:04,003 INFO sqlalchemy.engine.base.Engine COMMIT\n"
     ]
    }
   ],
   "source": [
    "Base.metadata.create_all(engine)"
   ]
  },
  {
   "cell_type": "markdown",
   "metadata": {},
   "source": [
    "# Data Manipulation\n",
    "\n",
    "Now that we have our tables defined. It is time to add some data to them.\n",
    "\n",
    "SQLAlchemy supports data manipulation via regular python manipulation of objects. This includes inserting, updating, and deleting of data.\n",
    "\n",
    "## Session and Transactions\n",
    "\n",
    "SQLAlchemy supports transactions in the ACID model. A transaction consists of several commands, which may include data manipulation, queries, and even schema manipulation. A transaction is initiated before all of its commands, and is then populated with commands one at a time. A transaction can be committed, at which point its commands are committed to the database. Transactions can also be rolled back (e.g. in the case of errors), at which point their effects are undone.\n",
    "\n",
    "ACID stands for:\n",
    "1. Atomicity: Each transaction is atomic. Either all of its commands are committed, or all of them fail.\n",
    "2. Consistency: If a transaction is committed, then all of it commands are consistent with the database constraints (e.g. it never sets the value of a column to null if the column is not allowed to be null).\n",
    "3. Isolation: changes made by a transaction do not affect other concurrent transaction, unless that transaction was committed, or the changes were asked to be flushed explicitly.\n",
    "4. Durable: committed transaction are indeed committed in the database physically, and they will survive future errors or crashes.\n",
    "\n",
    "A transaction in SQLAlchemy is implemented as part of the session abstraction. A session is an SQLAlchemy object that can be populated with commands and manipulation. The sessions provides a **commit** and **rollback** functions that can be used to manipulate the underlying transaction.\n",
    "\n",
    "Additionally, the session provides a **flush** function, which can be used to flush the changes made so far to the database, so that their effects are visible to other transactions and queries. Even if some commands are flushed successfully, future commands in the same transaction may cause errors, which will cause the entire transaction to rollback, including the flushed commands. This is not the case for **committed** commands, which will never get rolled back.\n",
    "\n",
    "Sessions are created via a session maker. A session maker can be configured initially by providing an engine, and then used to create new sessions. This is shown below. Note that this is a simple [factory pattern](https://en.wikipedia.org/wiki/Factory_method_pattern).\n",
    "\n",
    "Note that SQLAlchemy supports several optional parameters that can be provided at the SessionMaker or the session level. Most noteably autoflush and autocommit, which default to True and False respectively, which specify whether any given command is immediately flushed or committed. A session with autocommit=False can be committed explicitly by calling .commit().\n",
    "\n",
    "The transaction/session API of SQLAlchemy is very extensive, and include a variety of configurable parameters, as well as support for manual management of transactions, subtransactions, and other customizable behavior. For more details, look at the [sqlalchemy session docs](https://docs.sqlalchemy.org/en/13/orm/session_api.html)."
   ]
  },
  {
   "cell_type": "code",
   "execution_count": 7,
   "metadata": {},
   "outputs": [],
   "source": [
    "from sqlalchemy.orm import sessionmaker\n",
    "SessionMaker = sessionmaker(bind=engine)\n",
    "# SessionMaker can now give us sessions"
   ]
  },
  {
   "cell_type": "markdown",
   "metadata": {},
   "source": [
    "## Inserting Elements\n",
    "\n",
    "Now that we have the ability to create sessions. We can start inserting rows into our database. This is done via three steps, the last of which may be implicit:\n",
    "\n",
    "1. A new instance object of the module representing the desired table is created. The object can be provided all the content data via its constructors (which is inherited from the declartive base), or by manipulating its attributes explicitly.\n",
    "2. The new instances are added to a session/transaction. This does not commit them to the database directly (unless autocommit=True). However, it may flush them to the database if autoflush=True.\n",
    "3. The session is committed via .commit() or implicitly when autocommit=true.\n",
    "\n",
    "Below, we create a new author and country object. We also indicate that they are related by manipulating their logical relation."
   ]
  },
  {
   "cell_type": "code",
   "execution_count": 8,
   "metadata": {},
   "outputs": [
    {
     "name": "stdout",
     "output_type": "stream",
     "text": [
      "IdentitySet([<Author(id=None, name='J. K. Rowling'>, <Country(id=None, name=United Kingdom, code=UK)>])\n"
     ]
    }
   ],
   "source": [
    "# Create session\n",
    "session = SessionMaker(autoflush=False)\n",
    "\n",
    "# Create new objects\n",
    "author = Author(first_name='J. K.', last_name='Rowling')\n",
    "country = Country()\n",
    "country.name = 'United Kingdom'\n",
    "country.code = 'UK'\n",
    "\n",
    "# Add objects to session\n",
    "session.add(author)\n",
    "session.add(country)\n",
    "\n",
    "# Notice that the objects are not inserted to the database\n",
    "# but they are marked as new by the session\n",
    "print(session.new)\n",
    "\n",
    "# Country.authors is a many-to-many relation we defined above\n",
    "# also Author.countries is its backref relation\n",
    "# because it is many-to-many, both directions of the relation are lists.\n",
    "author.countries.append(country)\n",
    "#country.authors.append(author) # this is also fine\n",
    "\n"
   ]
  },
  {
   "cell_type": "code",
   "execution_count": 9,
   "metadata": {},
   "outputs": [
    {
     "name": "stdout",
     "output_type": "stream",
     "text": [
      "2019-11-14 00:20:04,190 INFO sqlalchemy.engine.base.Engine BEGIN (implicit)\n",
      "2019-11-14 00:20:04,194 INFO sqlalchemy.engine.base.Engine INSERT INTO authors (first_name, last_name) VALUES (?, ?)\n",
      "2019-11-14 00:20:04,197 INFO sqlalchemy.engine.base.Engine ('J. K.', 'Rowling')\n",
      "2019-11-14 00:20:04,203 INFO sqlalchemy.engine.base.Engine INSERT INTO country (name, code) VALUES (?, ?)\n",
      "2019-11-14 00:20:04,206 INFO sqlalchemy.engine.base.Engine ('United Kingdom', 'UK')\n",
      "2019-11-14 00:20:04,210 INFO sqlalchemy.engine.base.Engine INSERT INTO country_author (author_id, country_id, native) VALUES (?, ?, ?)\n",
      "2019-11-14 00:20:04,212 INFO sqlalchemy.engine.base.Engine (1, 1, 1)\n",
      "2019-11-14 00:20:04,218 INFO sqlalchemy.engine.base.Engine COMMIT\n"
     ]
    }
   ],
   "source": [
    "# We can commit the session\n",
    "session.commit()"
   ]
  },
  {
   "cell_type": "markdown",
   "metadata": {},
   "source": [
    "## Rollbacks\n",
    "\n",
    "The previous transaction was successfully committed. It does not violate any constraints set by our database.\n",
    "\n",
    "The following transaction will fail. In particular, because we are inserting a new country with the same code as the UK, which violates the uniqueness constraint defined in the Country module above."
   ]
  },
  {
   "cell_type": "code",
   "execution_count": 10,
   "metadata": {},
   "outputs": [
    {
     "name": "stdout",
     "output_type": "stream",
     "text": [
      "2019-11-14 00:20:04,336 INFO sqlalchemy.engine.base.Engine BEGIN (implicit)\n",
      "2019-11-14 00:20:04,338 INFO sqlalchemy.engine.base.Engine INSERT INTO authors (first_name, last_name) VALUES (?, ?)\n",
      "2019-11-14 00:20:04,339 INFO sqlalchemy.engine.base.Engine ('Other', 'Author')\n",
      "2019-11-14 00:20:04,343 INFO sqlalchemy.engine.base.Engine INSERT INTO country (name, code) VALUES (?, ?)\n",
      "2019-11-14 00:20:04,344 INFO sqlalchemy.engine.base.Engine ('Other Country', 'UK')\n",
      "2019-11-14 00:20:04,345 INFO sqlalchemy.engine.base.Engine ROLLBACK\n",
      "\n",
      "(sqlite3.IntegrityError) UNIQUE constraint failed: country.code\n",
      "[SQL: INSERT INTO country (name, code) VALUES (?, ?)]\n",
      "[parameters: ('Other Country', 'UK')]\n",
      "(Background on this error at: http://sqlalche.me/e/gkpj)\n"
     ]
    }
   ],
   "source": [
    "session = SessionMaker()\n",
    "\n",
    "author = Author(first_name='Other', last_name='Author')\n",
    "country = Country(name='Other Country', code='UK')\n",
    "\n",
    "session.add_all([author, country])\n",
    "try:\n",
    "    session.commit()\n",
    "except Exception as e:\n",
    "    print('')\n",
    "    print(e)\n",
    "    # session.rollback() # the transaction is automatically rolledback"
   ]
  },
  {
   "cell_type": "markdown",
   "metadata": {},
   "source": [
    "# Data Query\n",
    "\n",
    "SQLAlchemy supports querying tables via its [Query API](https://docs.sqlalchemy.org/en/13/orm/query.html) and Query objects. The Query API includes all standard SQL query constructs, including filter, group by, order, and others. It also supports eager and lazy joins (more on that later), as well as a variety of aggregators.\n",
    "\n",
    "The query API constructs are used in the python side and then transformed into SQL statements that get executed at the database side. This is important for efficiency. One can achieve a similar functionality to a filter query by retrieving all the rows, and performing the filter in python via a for-loop and an if statement. However, this will be much slower:\n",
    "1. It will transfer all the data from the database to python, this is particular slow if the database is remote and requires network access.\n",
    "2. It will execute the filter in python, which is a slow interpreted language, as opposed to compiled and optimized binaries of the database system (usually C/C++).\n",
    "3. Database systems are optimized to perform many filters quickly, via index and caches and other techniques.\n",
    "\n",
    "Queries are lazy. Creating a query does not immediately execute it. This is because a query can be modified after creation several times (e.g. by calling the filter function). The query is executed when the developer indicate that it has been finalized, by calling .all(), .first(), .get(), or certain final aggregators such as .count()\n",
    "\n",
    "Query results can be a python object (instances of queries modules) or a list containing such objects, depending on whether get/first or all was used.\n",
    "\n",
    "These objects contain the data in the corresponding rows inside their attributes. This includes other rows that are related to them via a relation. These attributes and rows can be accessed directly by accessing the properites of the python objects."
   ]
  },
  {
   "cell_type": "code",
   "execution_count": 11,
   "metadata": {},
   "outputs": [
    {
     "name": "stdout",
     "output_type": "stream",
     "text": [
      "queries created but not executed yet!\n",
      "\n",
      "2019-11-14 00:20:04,445 INFO sqlalchemy.engine.base.Engine BEGIN (implicit)\n",
      "2019-11-14 00:20:04,448 INFO sqlalchemy.engine.base.Engine SELECT country.id AS country_id, country.name AS country_name, country.code AS country_code \n",
      "FROM country \n",
      "WHERE country.code = ?\n",
      " LIMIT ? OFFSET ?\n",
      "2019-11-14 00:20:04,450 INFO sqlalchemy.engine.base.Engine ('UK', 1, 0)\n",
      "2019-11-14 00:20:04,456 INFO sqlalchemy.engine.base.Engine SELECT authors.id AS authors_id, authors.first_name AS authors_first_name, authors.last_name AS authors_last_name \n",
      "FROM authors\n",
      "2019-11-14 00:20:04,457 INFO sqlalchemy.engine.base.Engine ()\n",
      "\n",
      "queries executed!\n",
      "[<Author(id=1, name='J. K. Rowling'>]\n",
      "<Country(id=1, name=United Kingdom, code=UK)>\n"
     ]
    }
   ],
   "source": [
    "# create new session\n",
    "session = SessionMaker()\n",
    "\n",
    "# Get the country corresponding to country code 'uk'\n",
    "query1 = session.query(Country)\n",
    "query1 = query1.filter(Country.code=='UK')\n",
    "query2 = session.query(Author)\n",
    "\n",
    "print('queries created but not executed yet!\\n')\n",
    "\n",
    "uk = query1.first()\n",
    "all_authors = query2.all()\n",
    "\n",
    "print('\\nqueries executed!')\n",
    "\n",
    "print(all_authors)\n",
    "print(uk)"
   ]
  },
  {
   "cell_type": "markdown",
   "metadata": {},
   "source": [
    "## Lazy vs Eager Joins\n",
    "\n",
    "By default, relations are lazy. A query retrieves the data of the queried rows only. The data of other rows that are related is retrieved on demand, when that relationship is accessed.\n",
    "\n",
    "For example, below we can see that plain attributes of the row corresponding to the UK are immediately available. However, accessing the authors relationship issues an SQL query that fetches it on-demand, before returning the entries of that relationship.\n",
    "\n",
    "Note that future use of the relationship do not cause other SQL queries, since the relationship content gets cached after the first use."
   ]
  },
  {
   "cell_type": "code",
   "execution_count": 12,
   "metadata": {},
   "outputs": [
    {
     "name": "stdout",
     "output_type": "stream",
     "text": [
      "plain attributes are available\n",
      "name =  United Kingdom\n",
      "code =  UK\n",
      "\n",
      "Relationship are lazy, below you will see the SQL query performing the join\n",
      "\n",
      "2019-11-14 00:20:04,604 INFO sqlalchemy.engine.base.Engine SELECT authors.id AS authors_id, authors.first_name AS authors_first_name, authors.last_name AS authors_last_name \n",
      "FROM authors, country_author \n",
      "WHERE ? = country_author.country_id AND authors.id = country_author.author_id\n",
      "2019-11-14 00:20:04,605 INFO sqlalchemy.engine.base.Engine (1,)\n",
      "\n",
      "authors =  [<Author(id=1, name='J. K. Rowling'>]\n",
      "\n",
      "Relationship is cached after first use\n",
      "authors =  [<Author(id=1, name='J. K. Rowling'>]\n"
     ]
    }
   ],
   "source": [
    "print('plain attributes are available')\n",
    "print('name = ', uk.name)\n",
    "print('code = ', uk.code)\n",
    "\n",
    "print('\\nRelationship are lazy, below you will see the SQL query performing the join\\n')\n",
    "print('\\nauthors = ', uk.authors)\n",
    "\n",
    "print('\\nRelationship is cached after first use')\n",
    "print('authors = ', uk.authors)"
   ]
  },
  {
   "cell_type": "markdown",
   "metadata": {},
   "source": [
    "When the query is defined, it can be configured to load certain relations eagerly as part of the initial SQL query. The join strategy (lazy or eager) can also be specified in the relationship definition at the module, which sets the default behavior for that relation.\n",
    "\n",
    "Eager loading is good for cases when we know that the relation will be accessed on many of the resulting objects. Since that will allow us to perform a single SQL query only, instead of several ones. Otherwise, lazy join is recommended."
   ]
  },
  {
   "cell_type": "code",
   "execution_count": 13,
   "metadata": {},
   "outputs": [
    {
     "name": "stdout",
     "output_type": "stream",
     "text": [
      "The following query will have a join in it eagerly\n",
      "2019-11-14 00:20:04,708 INFO sqlalchemy.engine.base.Engine SELECT anon_1.country_id AS anon_1_country_id, anon_1.country_name AS anon_1_country_name, anon_1.country_code AS anon_1_country_code, authors_1.id AS authors_1_id, authors_1.first_name AS authors_1_first_name, authors_1.last_name AS authors_1_last_name \n",
      "FROM (SELECT country.id AS country_id, country.name AS country_name, country.code AS country_code \n",
      "FROM country \n",
      "WHERE country.code = ?\n",
      " LIMIT ? OFFSET ?) AS anon_1 LEFT OUTER JOIN (country_author AS country_author_1 JOIN authors AS authors_1 ON authors_1.id = country_author_1.author_id) ON anon_1.country_id = country_author_1.country_id\n",
      "2019-11-14 00:20:04,709 INFO sqlalchemy.engine.base.Engine ('UK', 1, 0)\n",
      "\n",
      "Now authors will be ready immediately\n",
      "<Country(id=1, name=United Kingdom, code=UK)> [<Author(id=1, name='J. K. Rowling'>]\n"
     ]
    }
   ],
   "source": [
    "from sqlalchemy.orm import joinedload\n",
    "\n",
    "print('The following query will have a join in it eagerly')\n",
    "uk = session.query(Country).options(joinedload(Country.authors)).filter(Country.code=='UK').first()\n",
    "\n",
    "print('\\nNow authors will be ready immediately')\n",
    "print(uk, uk.authors)"
   ]
  },
  {
   "cell_type": "markdown",
   "metadata": {},
   "source": [
    "## Transactions and Queries\n",
    "\n",
    "A transaction may include some data manipulation as well as queries. Additionally, there may be concurrent transactions performing queries as well.\n",
    "\n",
    "This raises a question of isolation. Should the effect of a pending (a transaction that has not been committed yet) be visible to queries made in that transaction, or other concurrent transactions?\n",
    "\n",
    "SQLAlchemy manages the isolation via flushes. All non-flushed changes are not visible to queries of any transaction. Changes that are flushed successfuly, are visible to other transaction. However, they may get rolled back if their issuing transaction fails. Remember, sessions autoflush changes by default."
   ]
  },
  {
   "cell_type": "code",
   "execution_count": 14,
   "metadata": {},
   "outputs": [
    {
     "name": "stdout",
     "output_type": "stream",
     "text": [
      "US was added to session 1, but not flushed\n",
      "US will not be visibile in either sessions!\n",
      "\n",
      "2019-11-14 00:20:04,793 INFO sqlalchemy.engine.base.Engine BEGIN (implicit)\n",
      "2019-11-14 00:20:04,794 INFO sqlalchemy.engine.base.Engine SELECT country.id AS country_id, country.name AS country_name, country.code AS country_code \n",
      "FROM country\n",
      "2019-11-14 00:20:04,795 INFO sqlalchemy.engine.base.Engine ()\n",
      "2019-11-14 00:20:04,797 INFO sqlalchemy.engine.base.Engine BEGIN (implicit)\n",
      "2019-11-14 00:20:04,798 INFO sqlalchemy.engine.base.Engine SELECT country.id AS country_id, country.name AS country_name, country.code AS country_code \n",
      "FROM country\n",
      "2019-11-14 00:20:04,798 INFO sqlalchemy.engine.base.Engine ()\n",
      "\n",
      "session1 --> [<Country(id=1, name=United Kingdom, code=UK)>]\n",
      "session2 --> [<Country(id=1, name=United Kingdom, code=UK)>] \n",
      "\n",
      "Flush issued! (notice there is no COMMIT below)\n",
      "2019-11-14 00:20:04,801 INFO sqlalchemy.engine.base.Engine INSERT INTO country (name, code) VALUES (?, ?)\n",
      "2019-11-14 00:20:04,802 INFO sqlalchemy.engine.base.Engine ('United States', 'US')\n",
      "\n",
      "US is flushed, now it will become visible!\n",
      "\n",
      "2019-11-14 00:20:04,805 INFO sqlalchemy.engine.base.Engine SELECT country.id AS country_id, country.name AS country_name, country.code AS country_code \n",
      "FROM country\n",
      "2019-11-14 00:20:04,805 INFO sqlalchemy.engine.base.Engine ()\n",
      "2019-11-14 00:20:04,808 INFO sqlalchemy.engine.base.Engine SELECT country.id AS country_id, country.name AS country_name, country.code AS country_code \n",
      "FROM country\n",
      "2019-11-14 00:20:04,809 INFO sqlalchemy.engine.base.Engine ()\n",
      "\n",
      "session1 --> [<Country(id=1, name=United Kingdom, code=UK)>, <Country(id=2, name=United States, code=US)>]\n",
      "session2 --> [<Country(id=1, name=United Kingdom, code=UK)>, <Country(id=2, name=United States, code=US)>] \n",
      "\n",
      "Commit session 1\n",
      "2019-11-14 00:20:04,811 INFO sqlalchemy.engine.base.Engine COMMIT\n"
     ]
    }
   ],
   "source": [
    "session1 = SessionMaker(autoflush=False)\n",
    "session2 = SessionMaker(autoflush=False)\n",
    "\n",
    "country = Country(name='United States', code='US')\n",
    "session1.add(country)\n",
    "\n",
    "print('US was added to session 1, but not flushed')\n",
    "print('US will not be visibile in either sessions!\\n')\n",
    "countries1 = session1.query(Country).all()\n",
    "countries2 = session2.query(Country).all()\n",
    "print('\\nsession1 -->', countries1)\n",
    "print('session2 -->', countries2, '\\n')\n",
    "\n",
    "print('Flush issued! (notice there is no COMMIT below)')\n",
    "session1.flush()\n",
    "\n",
    "print('\\nUS is flushed, now it will become visible!\\n')\n",
    "countries1 = session1.query(Country).all()\n",
    "countries2 = session2.query(Country).all()\n",
    "print('\\nsession1 -->', countries1)\n",
    "print('session2 -->', countries2, '\\n')\n",
    "\n",
    "print('Commit session 1')\n",
    "session1.commit()"
   ]
  },
  {
   "cell_type": "markdown",
   "metadata": {},
   "source": [
    "## Updating a Row\n",
    "\n",
    "After an object has been retrieved via a query, its data can be modified via regular python assignments to its attributes. This does not issue the update to the database yet. Instead, the update object must be added to a session, and that session has to be committed (explicitly or implicitly) for the update to get committed to the database.\n",
    "\n",
    "The session can also be flushed, to make the update visible without committing it.\n",
    "\n",
    "Update objects are marked by the session as \"dirty\"."
   ]
  },
  {
   "cell_type": "code",
   "execution_count": 15,
   "metadata": {},
   "outputs": [
    {
     "name": "stdout",
     "output_type": "stream",
     "text": [
      "2019-11-14 00:20:04,954 INFO sqlalchemy.engine.base.Engine BEGIN (implicit)\n",
      "2019-11-14 00:20:04,957 INFO sqlalchemy.engine.base.Engine SELECT country.id AS country_id, country.name AS country_name, country.code AS country_code \n",
      "FROM country \n",
      "WHERE country.id = ?\n",
      "2019-11-14 00:20:04,959 INFO sqlalchemy.engine.base.Engine (2,)\n",
      "\n",
      "<Country(id=2, name=United States, code=US)>\n",
      "\n",
      "new =  IdentitySet([])\n",
      "dirty =  IdentitySet([<Country(id=2, name=United State of America, code=US)>]) \n",
      "\n",
      "2019-11-14 00:20:04,971 INFO sqlalchemy.engine.base.Engine UPDATE country SET name=? WHERE country.id = ?\n",
      "2019-11-14 00:20:04,973 INFO sqlalchemy.engine.base.Engine ('United State of America', 2)\n",
      "2019-11-14 00:20:04,976 INFO sqlalchemy.engine.base.Engine COMMIT\n",
      "\n"
     ]
    }
   ],
   "source": [
    "session = SessionMaker()\n",
    "\n",
    "# get the country with primary key (in this case id) = 2\n",
    "usa = session.query(Country).get(2)\n",
    "\n",
    "# print usa to the screen\n",
    "print('')\n",
    "print(usa)\n",
    "print('')\n",
    "\n",
    "# update its name\n",
    "usa.name = 'United State of America'\n",
    "session.add(usa)\n",
    "\n",
    "print('new = ', session.new)\n",
    "print('dirty = ', session.dirty, '\\n')\n",
    "\n",
    "# commit\n",
    "session.commit()\n",
    "'''\n",
    "\n",
    "'''\n",
    "print('')"
   ]
  },
  {
   "cell_type": "markdown",
   "metadata": {},
   "source": [
    "Relations can also be updated similarly. One-to-many relations are updated via updating an existing object relation. Many-to-Many relations may be updated via creating a new instance of the secondary/association module, or via the relation directly."
   ]
  },
  {
   "cell_type": "code",
   "execution_count": 16,
   "metadata": {},
   "outputs": [
    {
     "name": "stdout",
     "output_type": "stream",
     "text": [
      "2019-11-14 00:20:05,068 INFO sqlalchemy.engine.base.Engine BEGIN (implicit)\n",
      "2019-11-14 00:20:05,069 INFO sqlalchemy.engine.base.Engine SELECT authors.id AS authors_id, authors.first_name AS authors_first_name, authors.last_name AS authors_last_name \n",
      "FROM authors\n",
      " LIMIT ? OFFSET ?\n",
      "2019-11-14 00:20:05,069 INFO sqlalchemy.engine.base.Engine (1, 0)\n",
      "2019-11-14 00:20:05,071 INFO sqlalchemy.engine.base.Engine SELECT country.id AS country_id, country.name AS country_name, country.code AS country_code \n",
      "FROM country, country_author \n",
      "WHERE ? = country_author.author_id AND country.id = country_author.country_id\n",
      "2019-11-14 00:20:05,071 INFO sqlalchemy.engine.base.Engine (1,)\n",
      "2019-11-14 00:20:05,073 INFO sqlalchemy.engine.base.Engine SELECT country.id AS country_id, country.name AS country_name, country.code AS country_code \n",
      "FROM country \n",
      "WHERE country.id = ?\n",
      "2019-11-14 00:20:05,074 INFO sqlalchemy.engine.base.Engine (2,)\n",
      "2019-11-14 00:20:05,074 INFO sqlalchemy.engine.base.Engine INSERT INTO country_author (author_id, country_id, native) VALUES (?, ?, ?)\n",
      "2019-11-14 00:20:05,075 INFO sqlalchemy.engine.base.Engine (1, 2, 1)\n",
      "2019-11-14 00:20:05,076 INFO sqlalchemy.engine.base.Engine COMMIT\n"
     ]
    }
   ],
   "source": [
    "# Make J. K. Rowling american! (just cause I can)\n",
    "rowling = session.query(Author).first()\n",
    "rowling.countries.append(usa)\n",
    "\n",
    "# Alternative way: this allows setting data on the association object\n",
    "# rowling_usa = CountryAuthor(author_id=rowling.id, country_id=usa.id, native=False)\n",
    "# session.add(rowling_usa)\n",
    "\n",
    "session.commit()"
   ]
  }
 ],
 "metadata": {
  "kernelspec": {
   "display_name": "Python 3",
   "language": "python",
   "name": "python3"
  },
  "language_info": {
   "codemirror_mode": {
    "name": "ipython",
    "version": 3
   },
   "file_extension": ".py",
   "mimetype": "text/x-python",
   "name": "python",
   "nbconvert_exporter": "python",
   "pygments_lexer": "ipython3",
   "version": "3.5.2"
  }
 },
 "nbformat": 4,
 "nbformat_minor": 2
}
