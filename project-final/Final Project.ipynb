{
 "cells": [
  {
   "cell_type": "markdown",
   "metadata": {},
   "source": [
    "# Final Project\n",
    "\n",
    "The final project is meant to be open-ended and exploratory. You are required to come up with your own ideas, so long as they fit the theme of our course and the topic categories defined below.\n",
    "\n",
    "## Policy\n",
    "\n",
    "The final project is a group project. Ideally, teams should consist of 2 students. Individual work or teams of size 3 will only be accepted given reasonable justification. Team members are expected to particpate equally in the work. \n",
    "\n",
    "You are allowed to discuss project ideas, implementation, and evaluation with other students outside your team, or others outside the course, as long as you make the ideas and implementation your own. Any code or documents you submit in your project should be the result of your own work.\n",
    "\n",
    "You are more than welcome to discuss your project ideas, progress, and challenges with the teaching staff, via email, Piazza, or in-person.\n",
    "\n",
    "## Deliverables\n",
    "\n",
    "You are expected to provide the following deliverables for your final project:\n",
    "1. **Project Proposal (Due Thursday, 11/28/2019):** 1-2 pages of text describing your project idea, why you chose it, how you roughly plan on tackling it, and how it fits the course and topic categories below. It must also clearly state how your team members are.\n",
    "2. **Poster Session (Tuesday, 12/17/2019 9-11am in the Hariri seminar room):** You will have the oppurtonity to present your work to your classmates, the teaching staff, the Hariri institute community, and the wider audience. Please allow for time to create and design your poster, as well as printing it.\n",
    "3. **Final Project (Wedensday, 12/18/2019 11:59PM via email):** Submission should include your code and a README or jupyter notebook file with instructions on how to run your code and how it is organized. Depending on your project topic, you may also submit other documents, including a report, datasets, plots, or other forms of evaluation.\n",
    "\n",
    "The teaching staff will check up with you and your teammates as the semester progresses, to ensure that you are on track. This may occur via Piazza, email or in-person.\n",
    "\n",
    "## Topic Categories\n",
    "\n",
    "You are allowed to work on any topic that is related to the theme of our course. We categorize such topics into 4 broad categories. Your project is allowed to be within any of these cateogries, or a combination of several categories.\n",
    "\n",
    "**You are allowed to use any programming languages and libraries you desired.**\n",
    "\n",
    "#### Embedded Framework/Library Design\n",
    "Build your own interesting embedded framework or library for a particular application. Your library may support novel applications that do not exist yet, make existing applications easier to code, more efficient, or less error prone. Use some of the techniques learned in class in your implementation (e.g. instrumentation, metaprogramming, deep embedding).\n",
    "\n",
    "#### Program Analysis or Transformation\n",
    "Similar to the first project. Create some tool or library that analyzes or transforms some subset of supported programs written in your desired language or library in some interesting way. Your tool may analyze the code to find bugs or estimate certain costs, or may transform the code to improve it with regards to some metrics, or to improve the developers experience.\n",
    "\n",
    "#### Modify or Extend Existing Embedded Libraries\n",
    "Improve some existing embedded libraries, including libraries we have not seen in class. You may decide to clone the library's source code and modify it, or create your own wrapper library around it, that modifies or extends its behavior, using techniques learned in the course (e.g. inheritance, reflection, aspect-oriented programming).\n",
    "\n",
    "#### Use Existing Embedded Libraries\n",
    "Build interesting applications using one or more existing embedded libraries. You need to combine usage of these libraries with techniques learned from class. Employ the course's conceptual content about embeddings and paradigms, to use these libraries better.\n",
    "\n",
    "\n",
    "The above categories use the word \"interesting\" frequently. For our purposes, interesting means **non-trivial**, **(somewhat) useful**, and **appropriately-sized**.\n",
    "\n",
    "Use your imagination and curiousity, happy hacking!"
   ]
  }
 ],
 "metadata": {
  "kernelspec": {
   "display_name": "Python 3",
   "language": "python",
   "name": "python3"
  },
  "language_info": {
   "codemirror_mode": {
    "name": "ipython",
    "version": 3
   },
   "file_extension": ".py",
   "mimetype": "text/x-python",
   "name": "python",
   "nbconvert_exporter": "python",
   "pygments_lexer": "ipython3",
   "version": "3.5.2"
  }
 },
 "nbformat": 4,
 "nbformat_minor": 2
}
