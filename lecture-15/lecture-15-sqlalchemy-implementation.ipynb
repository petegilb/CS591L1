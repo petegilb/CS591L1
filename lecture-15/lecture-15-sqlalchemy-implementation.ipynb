{
 "cells": [
  {
   "cell_type": "markdown",
   "metadata": {},
   "source": [
    "# Overview\n",
    "\n",
    "These notes are a continuation of the previous set of notes. We will go through some more advanced usage of SQLAlchemy, including mass insertion, and advanced query features. We will then look under the hood for some details on how SQLAlchemy's features are implemented, using interesting programming and embedding techniques.\n",
    "\n",
    "# Music Library Example\n",
    "\n",
    "Our running example will be a database made out of Artists and Albums. We define the schema below."
   ]
  },
  {
   "cell_type": "code",
   "execution_count": 1,
   "metadata": {},
   "outputs": [
    {
     "name": "stdout",
     "output_type": "stream",
     "text": [
      "2019-11-15 00:34:18,337 INFO sqlalchemy.engine.base.Engine SELECT CAST('test plain returns' AS VARCHAR(60)) AS anon_1\n",
      "2019-11-15 00:34:18,337 INFO sqlalchemy.engine.base.Engine ()\n",
      "2019-11-15 00:34:18,338 INFO sqlalchemy.engine.base.Engine SELECT CAST('test unicode returns' AS VARCHAR(60)) AS anon_1\n",
      "2019-11-15 00:34:18,338 INFO sqlalchemy.engine.base.Engine ()\n",
      "2019-11-15 00:34:18,339 INFO sqlalchemy.engine.base.Engine PRAGMA main.table_info(\"albums\")\n",
      "2019-11-15 00:34:18,339 INFO sqlalchemy.engine.base.Engine ()\n",
      "2019-11-15 00:34:18,340 INFO sqlalchemy.engine.base.Engine PRAGMA temp.table_info(\"albums\")\n",
      "2019-11-15 00:34:18,340 INFO sqlalchemy.engine.base.Engine ()\n",
      "2019-11-15 00:34:18,341 INFO sqlalchemy.engine.base.Engine PRAGMA main.table_info(\"artists\")\n",
      "2019-11-15 00:34:18,341 INFO sqlalchemy.engine.base.Engine ()\n",
      "2019-11-15 00:34:18,341 INFO sqlalchemy.engine.base.Engine PRAGMA temp.table_info(\"artists\")\n",
      "2019-11-15 00:34:18,342 INFO sqlalchemy.engine.base.Engine ()\n",
      "2019-11-15 00:34:18,342 INFO sqlalchemy.engine.base.Engine \n",
      "CREATE TABLE artists (\n",
      "\tid INTEGER NOT NULL, \n",
      "\tname VARCHAR NOT NULL, \n",
      "\tyear INTEGER, \n",
      "\tPRIMARY KEY (id), \n",
      "\tUNIQUE (name)\n",
      ")\n",
      "\n",
      "\n",
      "2019-11-15 00:34:18,343 INFO sqlalchemy.engine.base.Engine ()\n",
      "2019-11-15 00:34:18,344 INFO sqlalchemy.engine.base.Engine COMMIT\n",
      "2019-11-15 00:34:18,345 INFO sqlalchemy.engine.base.Engine \n",
      "CREATE TABLE albums (\n",
      "\tid INTEGER NOT NULL, \n",
      "\tname VARCHAR NOT NULL, \n",
      "\ttracks INTEGER NOT NULL, \n",
      "\tartist_id INTEGER NOT NULL, \n",
      "\tPRIMARY KEY (id), \n",
      "\tFOREIGN KEY(artist_id) REFERENCES artists (id)\n",
      ")\n",
      "\n",
      "\n",
      "2019-11-15 00:34:18,345 INFO sqlalchemy.engine.base.Engine ()\n",
      "2019-11-15 00:34:18,345 INFO sqlalchemy.engine.base.Engine COMMIT\n"
     ]
    }
   ],
   "source": [
    "from sqlalchemy import create_engine, Column, Integer, String, ForeignKey\n",
    "from sqlalchemy.ext.declarative import declarative_base\n",
    "from sqlalchemy.orm import validates, relationship\n",
    "\n",
    "import math\n",
    "\n",
    "engine = create_engine('sqlite:///:memory:', echo=True)\n",
    "Base = declarative_base()\n",
    "\n",
    "class Artist(Base):\n",
    "    __tablename__ = 'artists' # the actual name in the DB\n",
    "\n",
    "    id = Column(Integer, primary_key=True)\n",
    "    name = Column(String, unique=True, nullable=False)\n",
    "    year = Column(Integer, nullable=True)\n",
    "\n",
    "    @validates('year')\n",
    "    def year_is_valid(self, key, year):\n",
    "        year = math.floor(year)\n",
    "        if year < 1950 or year > 2019:\n",
    "            raise ValueError('Illegal year!')\n",
    "        return year\n",
    "    \n",
    "    def __repr__(self): # python side\n",
    "        return \"<Artist(id={}, name='{}', year={}>\".format(self.id, self.name, self.year)\n",
    "\n",
    "class Album(Base):\n",
    "    __tablename__ = 'albums'\n",
    "\n",
    "    id = Column(Integer, primary_key=True)\n",
    "    name = Column(String, nullable=False)\n",
    "    tracks = Column(Integer, nullable=False)\n",
    "\n",
    "    artist_id = Column(Integer, ForeignKey(Artist.id), nullable=False)\n",
    "    artist = relationship('Artist', backref='albums', lazy='joined') # backref is still lazy\n",
    "\n",
    "    def __repr__(self):\n",
    "        return \"<Album(id={}, name={}, #tracks={}, artist={})\".format(\n",
    "            self.id, self.name, self.tracks, self.artist.name)\n",
    "\n",
    "Base.metadata.create_all(engine)"
   ]
  },
  {
   "cell_type": "markdown",
   "metadata": {},
   "source": [
    "## Inserting Data\n",
    "\n",
    "Now, we will insert data into our database. A common technique is to read data from a csv or JSON file and insert it into DB. Sometimes, or to scrape data online or acquire it from other databases. Here, we will start with some JSON dump of the data."
   ]
  },
  {
   "cell_type": "code",
   "execution_count": 2,
   "metadata": {},
   "outputs": [],
   "source": [
    "json_str = '''[\n",
    "    {\"type\": \"artist\", \"content\": {\"name\": \"Lynyrd Skynyrd\", \"year\": 1964}},\n",
    "    {\"type\": \"artist\", \"content\": {\"name\": \"Led Zeppelin\", \"year\": 1968}},\n",
    "    {\"type\": \"artist\", \"content\": {\"name\": \"Metallica\", \"year\": 1981}},\n",
    "    {\"type\": \"artist\", \"content\": {\"name\": \"Slayer\", \"year\": 1981}},\n",
    "    {\"type\": \"artist\", \"content\": {\"name\": \"Pantera\", \"year\": 1981}},\n",
    "    {\"type\": \"artist\", \"content\": {\"name\": \"Pearl Jam\"}},\n",
    "    {\"type\": \"artist\", \"content\": {\"name\": \"Tool\", \"year\": 1990}},\n",
    "    {\"type\": \"album\", \"content\": {\"name\": \"Master of Puppets\", \"artist\": \"Metallica\", \"tracks\": 8}},\n",
    "    {\"type\": \"album\", \"content\": {\"name\": \"...And Justice for All\", \"artist\": \"Metallica\", \"tracks\": 9}},\n",
    "    {\"type\": \"album\", \"content\": {\"name\": \"Fear Inoculumn\", \"artist\": \"Tool\", \"tracks\": 10}},\n",
    "    {\"type\": \"album\", \"content\": {\"name\": \"Seasons in the Abyss\", \"artist\": \"Slayer\", \"tracks\": 10}},\n",
    "    {\"type\": \"album\", \"content\": {\"name\": \"Hell Awaits\", \"artist\": \"Slayer\", \"tracks\": 7}},\n",
    "    {\"type\": \"album\", \"content\": {\"name\": \"Far Beyond Driven\", \"artist\": \"Pantera\"}},\n",
    "    {\"type\": \"album\", \"content\": {\"name\": \"Ten\", \"artist\": \"Pearl Jam\"}}\n",
    "]'''"
   ]
  },
  {
   "cell_type": "markdown",
   "metadata": {},
   "source": [
    "Our JSON data contains many artists and bands. However, our data is not clean. Some artists are missing their year of formation, some albums may be missing the number of tracks. If an artist fails to be inserted, we want all its albums not to be inserted. However, if an album fails, this should not affect other albums or the artist.\n",
    "\n",
    "We can achieve this via committing every entry independently, starting with bands first. More complicated conditions can be implemented using subtransactions."
   ]
  },
  {
   "cell_type": "code",
   "execution_count": 3,
   "metadata": {},
   "outputs": [
    {
     "name": "stdout",
     "output_type": "stream",
     "text": [
      "2019-11-15 00:34:18,566 INFO sqlalchemy.engine.base.Engine BEGIN (implicit)\n",
      "2019-11-15 00:34:18,569 INFO sqlalchemy.engine.base.Engine INSERT INTO artists (name, year) VALUES (?, ?)\n",
      "2019-11-15 00:34:18,570 INFO sqlalchemy.engine.base.Engine ('Lynyrd Skynyrd', 1964)\n",
      "2019-11-15 00:34:18,574 INFO sqlalchemy.engine.base.Engine COMMIT\n",
      "2019-11-15 00:34:18,577 INFO sqlalchemy.engine.base.Engine BEGIN (implicit)\n",
      "2019-11-15 00:34:18,579 INFO sqlalchemy.engine.base.Engine INSERT INTO artists (name, year) VALUES (?, ?)\n",
      "2019-11-15 00:34:18,581 INFO sqlalchemy.engine.base.Engine ('Led Zeppelin', 1968)\n",
      "2019-11-15 00:34:18,586 INFO sqlalchemy.engine.base.Engine COMMIT\n",
      "2019-11-15 00:34:18,589 INFO sqlalchemy.engine.base.Engine BEGIN (implicit)\n",
      "2019-11-15 00:34:18,591 INFO sqlalchemy.engine.base.Engine INSERT INTO artists (name, year) VALUES (?, ?)\n",
      "2019-11-15 00:34:18,592 INFO sqlalchemy.engine.base.Engine ('Metallica', 1981)\n",
      "2019-11-15 00:34:18,596 INFO sqlalchemy.engine.base.Engine COMMIT\n",
      "2019-11-15 00:34:18,599 INFO sqlalchemy.engine.base.Engine BEGIN (implicit)\n",
      "2019-11-15 00:34:18,602 INFO sqlalchemy.engine.base.Engine INSERT INTO artists (name, year) VALUES (?, ?)\n",
      "2019-11-15 00:34:18,603 INFO sqlalchemy.engine.base.Engine ('Slayer', 1981)\n",
      "2019-11-15 00:34:18,606 INFO sqlalchemy.engine.base.Engine COMMIT\n",
      "2019-11-15 00:34:18,608 INFO sqlalchemy.engine.base.Engine BEGIN (implicit)\n",
      "2019-11-15 00:34:18,609 INFO sqlalchemy.engine.base.Engine INSERT INTO artists (name, year) VALUES (?, ?)\n",
      "2019-11-15 00:34:18,610 INFO sqlalchemy.engine.base.Engine ('Pantera', 1981)\n",
      "2019-11-15 00:34:18,613 INFO sqlalchemy.engine.base.Engine COMMIT\n",
      "2019-11-15 00:34:18,614 INFO sqlalchemy.engine.base.Engine BEGIN (implicit)\n",
      "2019-11-15 00:34:18,615 INFO sqlalchemy.engine.base.Engine INSERT INTO artists (name, year) VALUES (?, ?)\n",
      "2019-11-15 00:34:18,616 INFO sqlalchemy.engine.base.Engine ('Pearl Jam', None)\n",
      "2019-11-15 00:34:18,618 INFO sqlalchemy.engine.base.Engine COMMIT\n",
      "2019-11-15 00:34:18,619 INFO sqlalchemy.engine.base.Engine BEGIN (implicit)\n",
      "2019-11-15 00:34:18,620 INFO sqlalchemy.engine.base.Engine INSERT INTO artists (name, year) VALUES (?, ?)\n",
      "2019-11-15 00:34:18,620 INFO sqlalchemy.engine.base.Engine ('Tool', 1990)\n",
      "2019-11-15 00:34:18,621 INFO sqlalchemy.engine.base.Engine COMMIT\n",
      "2019-11-15 00:34:18,623 INFO sqlalchemy.engine.base.Engine BEGIN (implicit)\n",
      "2019-11-15 00:34:18,624 INFO sqlalchemy.engine.base.Engine SELECT artists.id AS artists_id, artists.name AS artists_name, artists.year AS artists_year \n",
      "FROM artists \n",
      "WHERE artists.id = ?\n",
      "2019-11-15 00:34:18,625 INFO sqlalchemy.engine.base.Engine (3,)\n",
      "2019-11-15 00:34:18,628 INFO sqlalchemy.engine.base.Engine INSERT INTO albums (name, tracks, artist_id) VALUES (?, ?, ?)\n",
      "2019-11-15 00:34:18,629 INFO sqlalchemy.engine.base.Engine ('Master of Puppets', 8, 3)\n",
      "2019-11-15 00:34:18,630 INFO sqlalchemy.engine.base.Engine COMMIT\n",
      "2019-11-15 00:34:18,632 INFO sqlalchemy.engine.base.Engine BEGIN (implicit)\n",
      "2019-11-15 00:34:18,634 INFO sqlalchemy.engine.base.Engine SELECT artists.id AS artists_id, artists.name AS artists_name, artists.year AS artists_year \n",
      "FROM artists \n",
      "WHERE artists.id = ?\n",
      "2019-11-15 00:34:18,634 INFO sqlalchemy.engine.base.Engine (3,)\n",
      "2019-11-15 00:34:18,635 INFO sqlalchemy.engine.base.Engine INSERT INTO albums (name, tracks, artist_id) VALUES (?, ?, ?)\n",
      "2019-11-15 00:34:18,636 INFO sqlalchemy.engine.base.Engine ('...And Justice for All', 9, 3)\n",
      "2019-11-15 00:34:18,637 INFO sqlalchemy.engine.base.Engine COMMIT\n",
      "2019-11-15 00:34:18,638 INFO sqlalchemy.engine.base.Engine BEGIN (implicit)\n",
      "2019-11-15 00:34:18,639 INFO sqlalchemy.engine.base.Engine SELECT artists.id AS artists_id, artists.name AS artists_name, artists.year AS artists_year \n",
      "FROM artists \n",
      "WHERE artists.id = ?\n",
      "2019-11-15 00:34:18,639 INFO sqlalchemy.engine.base.Engine (7,)\n",
      "2019-11-15 00:34:18,641 INFO sqlalchemy.engine.base.Engine INSERT INTO albums (name, tracks, artist_id) VALUES (?, ?, ?)\n",
      "2019-11-15 00:34:18,641 INFO sqlalchemy.engine.base.Engine ('Fear Inoculumn', 10, 7)\n",
      "2019-11-15 00:34:18,642 INFO sqlalchemy.engine.base.Engine COMMIT\n",
      "2019-11-15 00:34:18,643 INFO sqlalchemy.engine.base.Engine BEGIN (implicit)\n",
      "2019-11-15 00:34:18,644 INFO sqlalchemy.engine.base.Engine SELECT artists.id AS artists_id, artists.name AS artists_name, artists.year AS artists_year \n",
      "FROM artists \n",
      "WHERE artists.id = ?\n",
      "2019-11-15 00:34:18,645 INFO sqlalchemy.engine.base.Engine (4,)\n",
      "2019-11-15 00:34:18,646 INFO sqlalchemy.engine.base.Engine INSERT INTO albums (name, tracks, artist_id) VALUES (?, ?, ?)\n",
      "2019-11-15 00:34:18,646 INFO sqlalchemy.engine.base.Engine ('Seasons in the Abyss', 10, 4)\n",
      "2019-11-15 00:34:18,647 INFO sqlalchemy.engine.base.Engine COMMIT\n",
      "2019-11-15 00:34:18,648 INFO sqlalchemy.engine.base.Engine BEGIN (implicit)\n",
      "2019-11-15 00:34:18,649 INFO sqlalchemy.engine.base.Engine SELECT artists.id AS artists_id, artists.name AS artists_name, artists.year AS artists_year \n",
      "FROM artists \n",
      "WHERE artists.id = ?\n",
      "2019-11-15 00:34:18,649 INFO sqlalchemy.engine.base.Engine (4,)\n",
      "2019-11-15 00:34:18,650 INFO sqlalchemy.engine.base.Engine INSERT INTO albums (name, tracks, artist_id) VALUES (?, ?, ?)\n",
      "2019-11-15 00:34:18,651 INFO sqlalchemy.engine.base.Engine ('Hell Awaits', 7, 4)\n",
      "2019-11-15 00:34:18,652 INFO sqlalchemy.engine.base.Engine COMMIT\n",
      "2019-11-15 00:34:18,653 INFO sqlalchemy.engine.base.Engine BEGIN (implicit)\n",
      "2019-11-15 00:34:18,654 INFO sqlalchemy.engine.base.Engine SELECT artists.id AS artists_id, artists.name AS artists_name, artists.year AS artists_year \n",
      "FROM artists \n",
      "WHERE artists.id = ?\n",
      "2019-11-15 00:34:18,655 INFO sqlalchemy.engine.base.Engine (5,)\n",
      "2019-11-15 00:34:18,657 INFO sqlalchemy.engine.base.Engine INSERT INTO albums (name, tracks, artist_id) VALUES (?, ?, ?)\n",
      "2019-11-15 00:34:18,657 INFO sqlalchemy.engine.base.Engine ('Far Beyond Driven', None, 5)\n",
      "2019-11-15 00:34:18,658 INFO sqlalchemy.engine.base.Engine ROLLBACK\n",
      "\n",
      " (sqlite3.IntegrityError) NOT NULL constraint failed: albums.tracks\n",
      "[SQL: INSERT INTO albums (name, tracks, artist_id) VALUES (?, ?, ?)]\n",
      "[parameters: ('Far Beyond Driven', None, 5)]\n",
      "(Background on this error at: http://sqlalche.me/e/gkpj) \n",
      "\n",
      "\n",
      " This Session's transaction has been rolled back due to a previous exception during flush. To begin a new transaction with this Session, first issue Session.rollback(). Original exception was: (sqlite3.IntegrityError) NOT NULL constraint failed: albums.tracks\n",
      "[SQL: INSERT INTO albums (name, tracks, artist_id) VALUES (?, ?, ?)]\n",
      "[parameters: ('Far Beyond Driven', None, 5)]\n",
      "(Background on this error at: http://sqlalche.me/e/gkpj) (Background on this error at: http://sqlalche.me/e/7s2a) \n",
      "\n",
      "2019-11-15 00:34:18,661 INFO sqlalchemy.engine.base.Engine BEGIN (implicit)\n",
      "2019-11-15 00:34:18,661 INFO sqlalchemy.engine.base.Engine SELECT artists.id AS artists_id, artists.name AS artists_name, artists.year AS artists_year \n",
      "FROM artists\n",
      "2019-11-15 00:34:18,662 INFO sqlalchemy.engine.base.Engine ()\n",
      "\n",
      " [<Artist(id=1, name='Lynyrd Skynyrd', year=1964>, <Artist(id=2, name='Led Zeppelin', year=1968>, <Artist(id=3, name='Metallica', year=1981>, <Artist(id=4, name='Slayer', year=1981>, <Artist(id=5, name='Pantera', year=1981>, <Artist(id=6, name='Pearl Jam', year=None>, <Artist(id=7, name='Tool', year=1990>] \n",
      "\n",
      "2019-11-15 00:34:18,664 INFO sqlalchemy.engine.base.Engine SELECT albums.id AS albums_id, albums.name AS albums_name, albums.tracks AS albums_tracks, albums.artist_id AS albums_artist_id, artists_1.id AS artists_1_id, artists_1.name AS artists_1_name, artists_1.year AS artists_1_year \n",
      "FROM albums LEFT OUTER JOIN artists AS artists_1 ON artists_1.id = albums.artist_id\n",
      "2019-11-15 00:34:18,665 INFO sqlalchemy.engine.base.Engine ()\n",
      "[<Album(id=1, name=Master of Puppets, #tracks=8, artist=Metallica), <Album(id=2, name=...And Justice for All, #tracks=9, artist=Metallica), <Album(id=3, name=Fear Inoculumn, #tracks=10, artist=Tool), <Album(id=4, name=Seasons in the Abyss, #tracks=10, artist=Slayer), <Album(id=5, name=Hell Awaits, #tracks=7, artist=Slayer)]\n"
     ]
    }
   ],
   "source": [
    "import json\n",
    "\n",
    "from sqlalchemy.orm import sessionmaker\n",
    "SessionMaker = sessionmaker(bind=engine)\n",
    "\n",
    "session = SessionMaker()\n",
    "\n",
    "data = json.loads(json_str)\n",
    "artists = {}\n",
    "for entry in data:\n",
    "    if entry['type'] == 'artist':\n",
    "        artist = Artist(**entry['content'])\n",
    "        artists[entry['content']['name']] = artist\n",
    "        session.add(artist)\n",
    "        try:\n",
    "            session.commit()\n",
    "        except Exception as e:\n",
    "            print('\\n', e, '\\n')\n",
    "            \n",
    "            del artists[entry['content']['name']]\n",
    "            session.rollback()\n",
    "\n",
    "for entry in data:\n",
    "    if entry['type'] == 'album':\n",
    "        artist = entry['content']['artist']\n",
    "        del entry['content']['artist']\n",
    "        \n",
    "        album = Album(**entry['content'])\n",
    "        if artist in artists:\n",
    "            album.artist = artists[artist]\n",
    "            session.add(album)\n",
    "            try:\n",
    "                session.commit()\n",
    "            except Exception as e:\n",
    "                print('\\n', e, '\\n')\n",
    "                session.rollback\n",
    "\n",
    "session = SessionMaker()\n",
    "print('\\n', session.query(Artist).all(), '\\n')\n",
    "print(session.query(Album).all())"
   ]
  },
  {
   "cell_type": "markdown",
   "metadata": {},
   "source": [
    "## Advanced Queries\n",
    "\n",
    "We will make several queries that attempt to cover a variety of useful SQL features, including group by, aggregation, ordering, and limits.\n",
    "\n",
    "### All Artists\n",
    "\n",
    "We begin with something simple. We want to get all the artists in the database."
   ]
  },
  {
   "cell_type": "code",
   "execution_count": 4,
   "metadata": {},
   "outputs": [
    {
     "name": "stdout",
     "output_type": "stream",
     "text": [
      "2019-11-15 00:34:18,673 INFO sqlalchemy.engine.base.Engine BEGIN (implicit)\n",
      "2019-11-15 00:34:18,674 INFO sqlalchemy.engine.base.Engine SELECT artists.id AS artists_id, artists.name AS artists_name, artists.year AS artists_year \n",
      "FROM artists\n",
      "2019-11-15 00:34:18,674 INFO sqlalchemy.engine.base.Engine ()\n",
      "\n",
      "<Artist(id=1, name='Lynyrd Skynyrd', year=1964>\n",
      "<Artist(id=2, name='Led Zeppelin', year=1968>\n",
      "<Artist(id=3, name='Metallica', year=1981>\n",
      "<Artist(id=4, name='Slayer', year=1981>\n",
      "<Artist(id=5, name='Pantera', year=1981>\n",
      "<Artist(id=6, name='Pearl Jam', year=None>\n",
      "<Artist(id=7, name='Tool', year=1990>\n"
     ]
    }
   ],
   "source": [
    "session = SessionMaker()\n",
    "\n",
    "artists = session.query(Artist).all()\n",
    "print('')\n",
    "for artist in artists:\n",
    "    print(artist)"
   ]
  },
  {
   "cell_type": "markdown",
   "metadata": {},
   "source": [
    "### All Artists with Albums\n",
    "\n",
    "We begin with something simple. We want to choose all artists with some albums.\n",
    "\n",
    "In regular SQL, this requires us to perform a join on the foreign key between the artist and albums tables.\n",
    "SQLAlchemy allows us to express the condition using the logical relation, without going through details of foreign key.\n",
    "\n",
    "We can use .any() on the relationship, to get a condition that is satisfied if there relationship is not empty for a row."
   ]
  },
  {
   "cell_type": "code",
   "execution_count": 5,
   "metadata": {},
   "outputs": [
    {
     "name": "stdout",
     "output_type": "stream",
     "text": [
      "2019-11-15 00:34:18,750 INFO sqlalchemy.engine.base.Engine BEGIN (implicit)\n",
      "2019-11-15 00:34:18,751 INFO sqlalchemy.engine.base.Engine SELECT artists.id AS artists_id, artists.name AS artists_name, artists.year AS artists_year \n",
      "FROM artists \n",
      "WHERE EXISTS (SELECT 1 \n",
      "FROM albums \n",
      "WHERE artists.id = albums.artist_id)\n",
      "2019-11-15 00:34:18,751 INFO sqlalchemy.engine.base.Engine ()\n",
      "2019-11-15 00:34:18,753 INFO sqlalchemy.engine.base.Engine SELECT albums.id AS albums_id, albums.name AS albums_name, albums.tracks AS albums_tracks, albums.artist_id AS albums_artist_id \n",
      "FROM albums \n",
      "WHERE ? = albums.artist_id\n",
      "2019-11-15 00:34:18,754 INFO sqlalchemy.engine.base.Engine (3,)\n",
      "\n",
      " <Artist(id=3, name='Metallica', year=1981> [<Album(id=1, name=Master of Puppets, #tracks=8, artist=Metallica), <Album(id=2, name=...And Justice for All, #tracks=9, artist=Metallica)] \n",
      "\n",
      "2019-11-15 00:34:18,755 INFO sqlalchemy.engine.base.Engine SELECT albums.id AS albums_id, albums.name AS albums_name, albums.tracks AS albums_tracks, albums.artist_id AS albums_artist_id \n",
      "FROM albums \n",
      "WHERE ? = albums.artist_id\n",
      "2019-11-15 00:34:18,755 INFO sqlalchemy.engine.base.Engine (4,)\n",
      "\n",
      " <Artist(id=4, name='Slayer', year=1981> [<Album(id=4, name=Seasons in the Abyss, #tracks=10, artist=Slayer), <Album(id=5, name=Hell Awaits, #tracks=7, artist=Slayer)] \n",
      "\n",
      "2019-11-15 00:34:18,756 INFO sqlalchemy.engine.base.Engine SELECT albums.id AS albums_id, albums.name AS albums_name, albums.tracks AS albums_tracks, albums.artist_id AS albums_artist_id \n",
      "FROM albums \n",
      "WHERE ? = albums.artist_id\n",
      "2019-11-15 00:34:18,757 INFO sqlalchemy.engine.base.Engine (7,)\n",
      "\n",
      " <Artist(id=7, name='Tool', year=1990> [<Album(id=3, name=Fear Inoculumn, #tracks=10, artist=Tool)] \n",
      "\n"
     ]
    }
   ],
   "source": [
    "from sqlalchemy import func\n",
    "\n",
    "session = SessionMaker()\n",
    "\n",
    "artists = session.query(Artist).filter(Artist.albums.any()).all()\n",
    "for artist in artists:\n",
    "    # .albums will cause an SQL query to be issued because it is lazy by default\n",
    "    print('\\n', artist, artist.albums, '\\n')"
   ]
  },
  {
   "cell_type": "markdown",
   "metadata": {},
   "source": [
    "### Artists With At Least Two Albums\n",
    "\n",
    "This query is a bit different from the previous one, because it involves selecting the artist information, as well as information about the albums. SQLAlchemy provides us with a variety of aggregate functions, that can aggregate information at the database side, count is one such function, that returns the count of entries in a specific column.\n",
    "\n",
    "Note that we are not interested in the total number of albums in the entire database, rather the total number of albums **per** artist. Therefore, we should group by artists and aggregate these groupings.\n",
    "\n",
    "Lastely, the condition of having two or more albums can only be applied **after** the group by and aggregate is executed. SQL provides a *having* construct, which executes a filter after aggregation. SQLAlchemy provides having as well. SQLAlchemy provides a filter function as well, which is translated to an *where*, which gets executed prior to aggregation.\n",
    "\n",
    "Finally, our query now referes to columns within the albums table. So we must instruct SQLAchemy to join with that table. SQLAlchemy automatically figures out how to perform this join, based on the logical relationships defined in the schema."
   ]
  },
  {
   "cell_type": "code",
   "execution_count": 6,
   "metadata": {},
   "outputs": [
    {
     "name": "stdout",
     "output_type": "stream",
     "text": [
      "query 1\n",
      "2019-11-15 00:34:18,835 INFO sqlalchemy.engine.base.Engine BEGIN (implicit)\n",
      "2019-11-15 00:34:18,838 INFO sqlalchemy.engine.base.Engine SELECT artists.id AS artists_id, artists.name AS artists_name, artists.year AS artists_year, count(albums.id) AS count \n",
      "FROM artists JOIN albums ON artists.id = albums.artist_id GROUP BY artists.id \n",
      "HAVING count > 1\n",
      "2019-11-15 00:34:18,839 INFO sqlalchemy.engine.base.Engine ()\n",
      "<Artist(id=3, name='Metallica', year=1981> 2\n",
      "<Artist(id=4, name='Slayer', year=1981> 2\n",
      "\n",
      "query 2\n",
      "2019-11-15 00:34:18,852 INFO sqlalchemy.engine.base.Engine SELECT artists.id AS artists_id, artists.name AS artists_name, artists.year AS artists_year, count(albums.id) AS count_1 \n",
      "FROM artists JOIN albums ON artists.id = albums.artist_id GROUP BY artists.id \n",
      "HAVING count(albums.id) > ?\n",
      "2019-11-15 00:34:18,854 INFO sqlalchemy.engine.base.Engine (1,)\n",
      "<Artist(id=3, name='Metallica', year=1981> 2\n",
      "<Artist(id=4, name='Slayer', year=1981> 2\n"
     ]
    }
   ],
   "source": [
    "from sqlalchemy import func, text\n",
    "\n",
    "session = SessionMaker()\n",
    "\n",
    "# This is not recommended, because it uses SQL as a string\n",
    "print('query 1')\n",
    "query = session.query(Artist, func.count(Album.id).label('count')) # specify what to select\n",
    "query = query.join(Album) # join with albums\n",
    "query = query.group_by(Artist.id) # group based on artists\n",
    "query = query.having(text('count > 1')) # keep only records with more than 1 album\n",
    "artists = query.all()\n",
    "for (artist, count) in artists:\n",
    "    print(artist, count)\n",
    "\n",
    "# A bit better\n",
    "print('')\n",
    "print('query 2')\n",
    "count = func.count(Album.id) # count now can be utilized in python\n",
    "query = session.query(Artist, count) #same as before\n",
    "query = query.join(Album)\n",
    "query = query.group_by(Artist.id)\n",
    "query = query.having(count > 1) # same condition, but written in python\n",
    "for (artist, count) in query.all():\n",
    "    print(artist, count)"
   ]
  },
  {
   "cell_type": "markdown",
   "metadata": {},
   "source": [
    "### Get The Two Bands With The Most Number of Tracks\n",
    "\n",
    "The first part of this query is similar to the previous one, we want to join with the albums table, because it is the table with the tracks information. We also want to aggregate the albums grouped by their artists.\n",
    "\n",
    "The difference now is that we want to sum the number of tracks, instead of using count. Additionally, we should order the produced rows by the sum, and pick only the top two."
   ]
  },
  {
   "cell_type": "code",
   "execution_count": 7,
   "metadata": {},
   "outputs": [
    {
     "name": "stdout",
     "output_type": "stream",
     "text": [
      "2019-11-15 00:34:18,922 INFO sqlalchemy.engine.base.Engine BEGIN (implicit)\n",
      "2019-11-15 00:34:18,923 INFO sqlalchemy.engine.base.Engine SELECT artists.id AS artists_id, artists.name AS artists_name, artists.year AS artists_year, sum(albums.tracks) AS sum_1 \n",
      "FROM artists JOIN albums ON artists.id = albums.artist_id GROUP BY artists.id ORDER BY sum(albums.tracks) DESC\n",
      " LIMIT ? OFFSET ?\n",
      "2019-11-15 00:34:18,924 INFO sqlalchemy.engine.base.Engine (2, 0)\n",
      "<Artist(id=3, name='Metallica', year=1981> 17\n",
      "<Artist(id=4, name='Slayer', year=1981> 17\n"
     ]
    }
   ],
   "source": [
    "session = SessionMaker()\n",
    "\n",
    "tracks_sum = func.sum(Album.tracks)\n",
    "query = session.query(Artist, tracks_sum).join(Album)\n",
    "query = query.group_by(Artist.id)\n",
    "query = query.order_by(tracks_sum.desc()) # order in descending order\n",
    "query = query.limit(2) # get only the first 2 results\n",
    "for (artist, tracks) in query.all():\n",
    "    print(artist, tracks)"
   ]
  },
  {
   "cell_type": "markdown",
   "metadata": {},
   "source": [
    "# Behind The Scenes\n",
    "\n",
    "Here we will look more at how SQLAlchemy implements certain features behind the scenes.\n",
    "\n",
    "## Declarative Base\n",
    "\n",
    "How does SQLAlchemy keep track of which python classes are modules? Modules inherit from a declarative base. However, inheritance is a passive operation. It does not notify the parent class of the act of inheritance (not at definition time at least).\n",
    "\n",
    "The easy solution for this would be to require developers to manually register their modules, by calling some function. However, python provide a better automated solution via MetaClasses: [source](https://github.com/sqlalchemy/sqlalchemy/tree/master/lib/sqlalchemy/ext).\n",
    "\n",
    "## Meta Classes\n",
    "\n",
    "A Meta class, is a class whose instances are classes themselves. It is a class that gives classes instead of objects.\n",
    "\n",
    "A meta class can be written in python by inheriting from type."
   ]
  },
  {
   "cell_type": "code",
   "execution_count": 8,
   "metadata": {},
   "outputs": [
    {
     "name": "stdout",
     "output_type": "stream",
     "text": [
      "register MyClass (<class 'object'>,) dict_keys(['func', 'attr', '__module__', '__qualname__'])\n",
      "register MyClass2 (<class '__main__.MyClass'>,) dict_keys(['attr2', '__module__', '__qualname__'])\n"
     ]
    }
   ],
   "source": [
    "class RegisteringMetaClass(type):\n",
    "    def __init__(cls, clsname, bases, attrs):\n",
    "        print('register', clsname, bases, attrs.keys())\n",
    "        return super().__init__(clsname, bases, attrs)\n",
    "\n",
    "class MyClass(object, metaclass=RegisteringMetaClass):\n",
    "    attr = 'my attribute'\n",
    "    def func():\n",
    "        pass\n",
    "\n",
    "class MyClass2(MyClass):\n",
    "    attr2 = 'other attribute'\n",
    "\n",
    "class MyClass3():\n",
    "    pass"
   ]
  },
  {
   "cell_type": "markdown",
   "metadata": {},
   "source": [
    "The above example uses the metaclass=<metaclass> syntax, which is explicit but not regular. SQLAlchemy classes inherit from Base directly without refering to MetaClass. This can be achieved by ensuring that Base is a class defined with metaclass=<Metaclass>, or by getting an instance of the metaclass (whose instances are classes themselves), and using it as the parent class in inheritance."
   ]
  },
  {
   "cell_type": "code",
   "execution_count": 9,
   "metadata": {},
   "outputs": [
    {
     "name": "stdout",
     "output_type": "stream",
     "text": [
      "MetaClassInstance = <class '__main__.Base'>\n",
      "instrument ConcreteClass \n",
      "\n",
      "instrumented my_attr Test\n",
      "instrumented my_attr Test 2\n"
     ]
    }
   ],
   "source": [
    "def mysetattr(self, key, value):\n",
    "    print('instrumented', key, value)\n",
    "    super(self.__class__, self).__setattr__(key, value)\n",
    "\n",
    "class InstrumentingMetaClass(type):\n",
    "    def __new__(cls, clsname, bases, attrs):\n",
    "        if clsname != 'Base':\n",
    "            print('instrument', clsname, '\\n')\n",
    "            attrs['__setattr__'] = mysetattr\n",
    "        return super().__new__(cls, clsname, bases, attrs)\n",
    "\n",
    "# instances of the meta class are indeed classes\n",
    "MetaClassInstance = InstrumentingMetaClass('Base', (object,), {})\n",
    "print('MetaClassInstance =', MetaClassInstance)\n",
    "\n",
    "# inheriting from an instance of the metaclass applies the metaclass implicitly\n",
    "# this is the same behavior as MyClass2 above\n",
    "class ConcreteClass(MetaClassInstance):\n",
    "    def __init__(self):\n",
    "        self.my_attr = 'Test'\n",
    "\n",
    "instance = ConcreteClass()\n",
    "instance.my_attr = 'Test 2'"
   ]
  },
  {
   "cell_type": "markdown",
   "metadata": {},
   "source": [
    "## Query Implementation\n",
    "\n",
    "Another interesting thing to look at is how queries are implemented. In particular, how they get built up incrementally and translated to SQL, and how column-based conditions and manipulations work.\n",
    "\n",
    "### Query Class and Objects\n",
    "\n",
    "Source code: [Query](https://github.com/zzzeek/sqlalchemy/blob/master/lib/sqlalchemy/orm/query.py).\n",
    "\n",
    "The first thing to notice is that calling session.query() returns an object from sqlalchemy's Query class."
   ]
  },
  {
   "cell_type": "code",
   "execution_count": 10,
   "metadata": {},
   "outputs": [
    {
     "name": "stdout",
     "output_type": "stream",
     "text": [
      "type(query) = <class 'sqlalchemy.orm.query.Query'>\n"
     ]
    }
   ],
   "source": [
    "query = session.query(Artist)\n",
    "print('type(query) =', type(query))"
   ]
  },
  {
   "cell_type": "markdown",
   "metadata": {},
   "source": [
    "Second, note that the Query class overrides \\_\\_str\\_\\_(), so that it dumps the SQL statment that is equivalent to the query object."
   ]
  },
  {
   "cell_type": "code",
   "execution_count": 11,
   "metadata": {},
   "outputs": [
    {
     "name": "stdout",
     "output_type": "stream",
     "text": [
      "SELECT artists.id AS artists_id, artists.name AS artists_name, artists.year AS artists_year \n",
      "FROM artists\n"
     ]
    }
   ],
   "source": [
    "sql = str(query)\n",
    "print(sql)"
   ]
  },
  {
   "cell_type": "markdown",
   "metadata": {},
   "source": [
    "As expected, all the functionality we have been using before for querying is implemented as methods in the Query class. This includes filter, order_by, limit, join, all, and many others."
   ]
  },
  {
   "cell_type": "code",
   "execution_count": 12,
   "metadata": {},
   "outputs": [
    {
     "name": "stdout",
     "output_type": "stream",
     "text": [
      "<function Query.filter at 0x7f240bc17ea0>\n",
      "<function Query.order_by at 0x7f240bc1a158>\n",
      "<function Query.limit at 0x7f240bc19730>\n",
      "<function Query.join at 0x7f240bc1a7b8>\n",
      "<function Query.all at 0x7f240bc19b70>\n"
     ]
    }
   ],
   "source": [
    "from sqlalchemy.orm.query import Query\n",
    "print(Query.filter)\n",
    "print(Query.order_by)\n",
    "print(Query.limit)\n",
    "print(Query.join)\n",
    "print(Query.all)"
   ]
  },
  {
   "cell_type": "markdown",
   "metadata": {},
   "source": [
    "### Columns and Conditions"
   ]
  },
  {
   "cell_type": "markdown",
   "metadata": {},
   "source": [
    "In the queries we have seen so far, we regularly used typical python operators, such as > or ==, to define conditions on columns. This may seem weird at first. Semantically, we are used to using > and == to compare Python values eagerly. However, here they are being used in a lazy way, and their actual execution happens at the database side.\n",
    "\n",
    "Let us try to analyze how this is implemented systematically.\n",
    "\n",
    "First, note two important observations:\n",
    "1. **&lt;ModuleClass&gt;.&lt;column_name&gt;** is an instance object from SQLAlchemy's instrumented attribute class. This allows SQLAlechmy to customize how this column is used. This is a bit surprising. Looking at the definition of Artist class above, we may be led to believe that this should be an instance of Column, since thats how we define this property. However, SQLAlchemy uses the fact that Base controls the metaclass of our modules, to instrument their properties at definition time. The instrumented property contains the column definition and its information.\n",
    "2. **&lt;module_instance&gt;.&lt;column_name&gt;** is a python value corresponding to the value of that column in the respective row in the table."
   ]
  },
  {
   "cell_type": "code",
   "execution_count": 13,
   "metadata": {},
   "outputs": [
    {
     "name": "stdout",
     "output_type": "stream",
     "text": [
      "2019-11-15 00:34:19,477 INFO sqlalchemy.engine.base.Engine SELECT artists.id AS artists_id, artists.name AS artists_name, artists.year AS artists_year \n",
      "FROM artists \n",
      "WHERE artists.id = ?\n",
      "2019-11-15 00:34:19,479 INFO sqlalchemy.engine.base.Engine (3,)\n",
      "\n",
      "type(artist.name), artist.name = <class 'str'> Metallica\n",
      "type(Artist.name), Artist.name = <class 'sqlalchemy.orm.attributes.InstrumentedAttribute'> Artist.name\n"
     ]
    }
   ],
   "source": [
    "artist = session.query(Artist).get(3)\n",
    "print('')\n",
    "print('type(artist.name), artist.name =', type(artist.name), artist.name)\n",
    "print('type(Artist.name), Artist.name =', type(Artist.name), Artist.name)"
   ]
  },
  {
   "cell_type": "markdown",
   "metadata": {},
   "source": [
    "This can lead to confusion at times, at the surface of it, it seems like .name should be the same in both instances and their class. However, python supports having static and object-bound attributes with the same name. Below is a small demonstration of that."
   ]
  },
  {
   "cell_type": "code",
   "execution_count": 14,
   "metadata": {},
   "outputs": [
    {
     "name": "stdout",
     "output_type": "stream",
     "text": [
      "Static attribute 1 , Static attribute 2\n",
      "Object-bound attribute , Static attribute 2\n"
     ]
    }
   ],
   "source": [
    "class MyClass():\n",
    "    attr1 = 'Static attribute 1'\n",
    "    attr2 = 'Static attribute 2'\n",
    "    def __init__(self):\n",
    "        self.attr1 = 'Object-bound attribute'\n",
    "\n",
    "obj = MyClass()\n",
    "print(MyClass.attr1, ',', MyClass.attr2)\n",
    "print(obj.attr1, ',', obj.attr2)\n",
    "\n",
    "        "
   ]
  },
  {
   "cell_type": "markdown",
   "metadata": {},
   "source": [
    "Looking deeper at the content of the instrumented attributes, we can see that InstrumentedAttribute overrides a variety of operators, including >, <, and ==. This means that when we use these operators on instrumented attribute objects, SQLAlchemy functions are executed, and they define the semantics of those operators."
   ]
  },
  {
   "cell_type": "code",
   "execution_count": 15,
   "metadata": {},
   "outputs": [
    {
     "name": "stdout",
     "output_type": "stream",
     "text": [
      "['__add__', '__and__', '__class__', '__clause_element__', '__contains__', '__delattr__', '__delete__', '__dict__', '__dir__', '__div__', '__doc__', '__eq__', '__format__', '__ge__', '__get__', '__getattr__', '__getattribute__', '__getitem__', '__gt__', '__hash__', '__init__', '__invert__', '__le__', '__lshift__', '__lt__', '__mod__', '__module__', '__mul__', '__ne__', '__neg__', '__new__', '__or__', '__radd__', '__rdiv__', '__reduce__', '__reduce_ex__', '__repr__', '__rmod__', '__rmul__', '__rshift__', '__rsub__', '__rtruediv__', '__selectable__', '__set__', '__setattr__', '__sizeof__', '__slots__', '__str__', '__sub__', '__subclasshook__', '__truediv__', '__weakref__', '_adapt_to_entity', '_bulk_update_tuples', '_impl_uses_objects', '_is_internal_proxy', '_of_type', '_parententity', '_parentmapper', '_query_clause_element', '_supports_population', 'adapt_to_entity', 'adapter', 'all_', 'any', 'any_', 'any_op', 'asc', 'between', 'bool_op', 'class_', 'collate', 'comparator', 'concat', 'contains', 'desc', 'dispatch', 'distinct', 'endswith', 'expression', 'extension_type', 'get_history', 'has', 'has_op', 'hasparent', 'ilike', 'impl', 'in_', 'info', 'is_', 'is_aliased_class', 'is_attribute', 'is_clause_element', 'is_distinct_from', 'is_instance', 'is_mapper', 'is_property', 'is_selectable', 'isnot', 'isnot_distinct_from', 'key', 'label', 'like', 'match', 'notilike', 'notin_', 'notlike', 'nullsfirst', 'nullslast', 'of_type', 'of_type_op', 'op', 'operate', 'parent', 'prop', 'property', 'reverse_operate', 'startswith', 'timetuple'] \n",
      "\n",
      "<bound method ColumnOperators.__le__ of <sqlalchemy.orm.attributes.InstrumentedAttribute object at 0x7f240bb1f9e8>>\n"
     ]
    }
   ],
   "source": [
    "print(dir(Artist.name), '\\n')\n",
    "print(Artist.name.__le__) # this function overrides (Artist.name < things)"
   ]
  },
  {
   "cell_type": "markdown",
   "metadata": {},
   "source": [
    "Finally, now we can see the effect of such an operator. It returns an SQLAlchemy object that keeps track of what operators were used, which when passed to the query object, are analyzed and added to the corresponding SQL statement.\n",
    "\n",
    "This is very similar to our Lazy deep embedding from several weeks ago, and it is a common technique for runtime embedding of translators or analyzers."
   ]
  },
  {
   "cell_type": "code",
   "execution_count": 16,
   "metadata": {},
   "outputs": [
    {
     "name": "stdout",
     "output_type": "stream",
     "text": [
      "<class 'sqlalchemy.sql.elements.BinaryExpression'>\n",
      "artists.year > :year_1\n",
      "\n",
      "<class 'sqlalchemy.orm.query.Query'>\n",
      "SELECT artists.id AS artists_id, artists.name AS artists_name, artists.year AS artists_year \n",
      "FROM artists \n",
      "WHERE artists.year > ?\n"
     ]
    }
   ],
   "source": [
    "#from sqlalchemy import and_\n",
    "\n",
    "condition1 = Artist.year > 1980\n",
    "print(type(condition1))\n",
    "print(str(condition1))\n",
    "\n",
    "query2 = query.filter(condition1)\n",
    "print('')\n",
    "print(type(query2))\n",
    "print(str(query2))\n",
    "\n",
    "condition2 = Artist.year <= 1990"
   ]
  },
  {
   "cell_type": "markdown",
   "metadata": {},
   "source": [
    "The power of such a deep embedding is that its constructs can be composed and combined arbitrarily, in unison with other python constructs. For example, conditions may be passed between functions as parameters, or get created inside for loops or if statements.\n",
    "\n",
    "Here is a simple example demonstrating this ability."
   ]
  },
  {
   "cell_type": "code",
   "execution_count": 17,
   "metadata": {},
   "outputs": [
    {
     "name": "stdout",
     "output_type": "stream",
     "text": [
      "artists.year <= :year_1\n",
      "\n",
      "<function and_ at 0x7f24202c7598>\n",
      "\n",
      "<class 'sqlalchemy.sql.elements.BooleanClauseList'>\n",
      "artists.year > :year_1 AND artists.year <= :year_2\n"
     ]
    }
   ],
   "source": [
    "def create_condition(column):\n",
    "    return column <= 1990\n",
    "\n",
    "condition2 = create_condition(Artist.year)\n",
    "print(str(condition2))\n",
    "\n",
    "from sqlalchemy import and_\n",
    "print('')\n",
    "print(and_)\n",
    "\n",
    "condition = and_(condition1, condition2)\n",
    "print('')\n",
    "print(type(condition))\n",
    "print(str(condition))"
   ]
  },
  {
   "cell_type": "markdown",
   "metadata": {},
   "source": [
    "Finally, we can use these conditions when desired by passing them to queries. A condition is a plain Lazy object that does not posses any execution specific values, and therefore it can be re-used by several queries."
   ]
  },
  {
   "cell_type": "code",
   "execution_count": 18,
   "metadata": {},
   "outputs": [
    {
     "name": "stdout",
     "output_type": "stream",
     "text": [
      "<class 'sqlalchemy.orm.query.Query'>\n",
      "SELECT artists.id AS artists_id, artists.name AS artists_name, artists.year AS artists_year \n",
      "FROM artists \n",
      "WHERE artists.year > ? AND artists.year <= ?\n",
      "\n",
      "2019-11-15 00:34:19,997 INFO sqlalchemy.engine.base.Engine SELECT artists.id AS artists_id, artists.name AS artists_name, artists.year AS artists_year \n",
      "FROM artists \n",
      "WHERE artists.year > ? AND artists.year <= ?\n",
      "2019-11-15 00:34:19,999 INFO sqlalchemy.engine.base.Engine (1980, 1990)\n",
      "\n",
      "[<Artist(id=3, name='Metallica', year=1981>, <Artist(id=4, name='Slayer', year=1981>, <Artist(id=5, name='Pantera', year=1981>, <Artist(id=7, name='Tool', year=1990>]\n"
     ]
    }
   ],
   "source": [
    "query = query.filter(condition)\n",
    "print(type(query))\n",
    "print(str(query))\n",
    "\n",
    "print('')\n",
    "result = query.all()\n",
    "\n",
    "print('')\n",
    "print(result)"
   ]
  },
  {
   "cell_type": "markdown",
   "metadata": {},
   "source": [
    "### Other Interesting Implementation Details\n",
    "\n",
    "There are many other interesting aspects of SQLAlchemy that are worth further discussion. For brievity, we only highlight a couple of them.\n",
    "\n",
    "1. Lazy loading of relationships: properties (both static and object-bound) of module classes and objects are instrumented. This means that accessing them triggers a python hook defined within SQLAlchemy, which can modify how the access work. In particular, for object-bound attributes matching static attributes of relationships (e.g. artist.albums), this hook checks whether the relationship was previously loaded, and loads it from the database using SQL queries if it needs to, before returning the result. This can be achieved via reflection (e.g. by overriding \\_\\_getattr\\_\\_).\n",
    "\n",
    "2. Migrations and schema consistency: SQLAlchemy builds a graph-like data structure that stores the defined modules and their dependencies. This is done via the metaclass. This gives SQLAlchemy the chance to check whether the schema has been modified after the database was created, since it can also query the database for schematic information, and compare the two. This gives SQLAlchemy the ability to generate and manage SQL statements for altering the schema. Because of how critical and dangerous schema editing can be, SQLAlchemy generate python files called \"migrations\", that can be run via SQLAlchemy manaully, to generate and execute SQL statments for altering the schema, within safe transaction blocks. You can read more about this [here](https://alembic.sqlalchemy.org/en/latest/tutorial.html)."
   ]
  }
 ],
 "metadata": {
  "kernelspec": {
   "display_name": "Python 3",
   "language": "python",
   "name": "python3"
  },
  "language_info": {
   "codemirror_mode": {
    "name": "ipython",
    "version": 3
   },
   "file_extension": ".py",
   "mimetype": "text/x-python",
   "name": "python",
   "nbconvert_exporter": "python",
   "pygments_lexer": "ipython3",
   "version": "3.5.2"
  }
 },
 "nbformat": 4,
 "nbformat_minor": 2
}
